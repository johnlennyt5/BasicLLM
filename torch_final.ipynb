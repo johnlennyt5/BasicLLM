{
 "cells": [
  {
   "cell_type": "code",
   "execution_count": 55,
   "id": "b1afacd8-c94f-4401-b2a7-ea27d3898385",
   "metadata": {},
   "outputs": [
    {
     "name": "stdout",
     "output_type": "stream",
     "text": [
      "cpu\n"
     ]
    }
   ],
   "source": [
    "import torch\n",
    "import torch.nn as nn\n",
    "from torch.nn import functional as F\n",
    "import numpy as np\n",
    "import time\n",
    "device = 'cuda' if torch.cuda.is_available() else 'cpu'\n",
    "print(device)\n"
   ]
  },
  {
   "cell_type": "code",
   "execution_count": 43,
   "id": "176c30d5-347e-4287-aad9-a2f16b50ed77",
   "metadata": {},
   "outputs": [
    {
     "name": "stdout",
     "output_type": "stream",
     "text": [
      "0.00007176\n",
      "CPU times: user 448 µs, sys: 186 µs, total: 634 µs\n",
      "Wall time: 1.1 ms\n"
     ]
    }
   ],
   "source": [
    "%%time\n",
    "start_time = time.time()\n",
    "#martix operation here\n",
    "zeros = torch.zeros(1,1)\n",
    "end_time = time.time()\n",
    "\n",
    "elapsed_time = end_time - start_time\n",
    "print(f\"{elapsed_time:.8f}\")"
   ]
  },
  {
   "cell_type": "code",
   "execution_count": 22,
   "id": "2306b1ad-061e-4dc4-9647-63e114e2be99",
   "metadata": {},
   "outputs": [
    {
     "name": "stdout",
     "output_type": "stream",
     "text": [
      "1.07568002\n",
      "0.36298680\n"
     ]
    }
   ],
   "source": [
    "torch_rand1 = torch.rand(100, 100, 100, 100).to(device)\n",
    "torch_rand2 = torch.rand(100, 100, 100, 100).to(device)\n",
    "np_rand1 = torch.rand(100, 100, 100, 100)\n",
    "np_rand2 = torch.rand(100, 100, 100, 100)\n",
    "\n",
    "start_time = time.time()\n",
    "\n",
    "rand = (torch_rand1 @ torch_rand2)\n",
    "\n",
    "end_time = time.time()\n",
    "\n",
    "elapsed_time = end_time - start_time\n",
    "print(f\"{elapsed_time:.8f}\")\n",
    "\n",
    "start_time = time.time()\n",
    "\n",
    "rand = np.multiply(np_rand1, np_rand2)\n",
    "end_time = time.time()\n",
    "elapsed_time = end_time - start_time\n",
    "\n",
    "print(f\"{elapsed_time:.8f}\")\n"
   ]
  },
  {
   "cell_type": "code",
   "execution_count": 30,
   "id": "886da3dd-04d8-4134-9415-abf5d5e4e3c3",
   "metadata": {},
   "outputs": [
    {
     "name": "stdout",
     "output_type": "stream",
     "text": [
      "tensor([1, 1, 0, 1, 1, 1, 1, 1, 1, 1])\n"
     ]
    }
   ],
   "source": [
    "#torch.stack, torch.multinomial, torch.trill, torch.trio, input.T / input.transpose, nn.Linear, torch.cat, F.softmax(show all examples of functions/methods with pytorch docs)\n",
    "\n",
    "#Define a probability tensor\n",
    "probabilities = torch.tensor([0.1, 0.9])\n",
    "# 10% or 0.1 => 0, 90% or .9 => 1. each probability points to the index of probability in the tensor\n",
    "# Draw 5 samples from the mutlinomial distribution\n",
    "samples = torch.multinomial(probabilities,  num_samples=10, replacement=True)\n",
    "print(samples)"
   ]
  },
  {
   "cell_type": "code",
   "execution_count": 27,
   "id": "bb80d85a-4941-4ec5-90e2-923230ec0e7d",
   "metadata": {},
   "outputs": [
    {
     "data": {
      "text/plain": [
       "tensor([1, 2, 3, 4, 5])"
      ]
     },
     "execution_count": 27,
     "metadata": {},
     "output_type": "execute_result"
    }
   ],
   "source": [
    "tensor = torch.tensor([1, 2, 3, 4])\n",
    "out = torch.cat((tensor, torch.tensor([5])), dim=0)\n",
    "out"
   ]
  },
  {
   "cell_type": "code",
   "execution_count": 29,
   "id": "ebcd0940-8e35-433f-aa86-9e00e84b6690",
   "metadata": {},
   "outputs": [
    {
     "data": {
      "text/plain": [
       "tensor([[1., 0., 0., 0., 0.],\n",
       "        [1., 1., 0., 0., 0.],\n",
       "        [1., 1., 1., 0., 0.],\n",
       "        [1., 1., 1., 1., 0.],\n",
       "        [1., 1., 1., 1., 1.]])"
      ]
     },
     "execution_count": 29,
     "metadata": {},
     "output_type": "execute_result"
    }
   ],
   "source": [
    "out = torch.tril(torch.ones(5,5))\n",
    "out"
   ]
  },
  {
   "cell_type": "code",
   "execution_count": 32,
   "id": "25f04d95-7b3c-452a-b3d2-925fe81afaed",
   "metadata": {},
   "outputs": [
    {
     "data": {
      "text/plain": [
       "tensor([[0., -inf, -inf, -inf, -inf],\n",
       "        [0., 0., -inf, -inf, -inf],\n",
       "        [0., 0., 0., -inf, -inf],\n",
       "        [0., 0., 0., 0., -inf],\n",
       "        [0., 0., 0., 0., 0.]])"
      ]
     },
     "execution_count": 32,
     "metadata": {},
     "output_type": "execute_result"
    }
   ],
   "source": [
    "out = torch.zeros(5,5).masked_fill(torch.tril(torch.ones(5,5)) == 0, float('-inf'))\n",
    "out"
   ]
  },
  {
   "cell_type": "code",
   "execution_count": 33,
   "id": "62df3477-4390-416d-8ab2-cb7bd09e6454",
   "metadata": {},
   "outputs": [
    {
     "data": {
      "text/plain": [
       "tensor([[1., 0., 0., 0., 0.],\n",
       "        [1., 1., 0., 0., 0.],\n",
       "        [1., 1., 1., 0., 0.],\n",
       "        [1., 1., 1., 1., 0.],\n",
       "        [1., 1., 1., 1., 1.]])"
      ]
     },
     "execution_count": 33,
     "metadata": {},
     "output_type": "execute_result"
    }
   ],
   "source": [
    "torch.exp(out)"
   ]
  },
  {
   "cell_type": "code",
   "execution_count": 34,
   "id": "04240508-50b7-48b8-a42a-79463aebedf5",
   "metadata": {},
   "outputs": [
    {
     "data": {
      "text/plain": [
       "torch.Size([4, 3, 2])"
      ]
     },
     "execution_count": 34,
     "metadata": {},
     "output_type": "execute_result"
    }
   ],
   "source": [
    "input = torch.zeros(2,3,4)\n",
    "out = input.transpose(0,2)\n",
    "out.shape"
   ]
  },
  {
   "cell_type": "code",
   "execution_count": 44,
   "id": "3b78fd71-296f-446a-a6f8-d0cd517e22d2",
   "metadata": {},
   "outputs": [
    {
     "data": {
      "text/plain": [
       "tensor([[1, 2, 3],\n",
       "        [4, 5, 6],\n",
       "        [7, 8, 9]])"
      ]
     },
     "execution_count": 44,
     "metadata": {},
     "output_type": "execute_result"
    }
   ],
   "source": [
    "tensor1 = torch.tensor([1,2,3])\n",
    "tensor2 = torch.tensor([4,5,6])\n",
    "tensor3 = torch.tensor([7,8,9])\n",
    "\n",
    "#stack the tensors along a new dimension\n",
    "stacked_tensor = torch.stack([tensor1, tensor2, tensor3])\n",
    "stacked_tensor"
   ]
  },
  {
   "cell_type": "code",
   "execution_count": 51,
   "id": "909a1af8-bbee-43f6-8b49-8c62a4a4df04",
   "metadata": {},
   "outputs": [
    {
     "name": "stdout",
     "output_type": "stream",
     "text": [
      "tensor([ 2.3734,  2.2077, -3.7464], grad_fn=<SqueezeBackward4>)\n"
     ]
    }
   ],
   "source": [
    "import torch.nn as nn\n",
    "\n",
    "sample = torch.tensor([10, 10, 10], dtype=torch.float32)\n",
    "linear = nn.Linear(3, 3, bias=False)\n",
    "print(linear(sample))"
   ]
  },
  {
   "cell_type": "code",
   "execution_count": 52,
   "id": "98255756-3c70-400d-a5b0-b2338f7f121d",
   "metadata": {},
   "outputs": [
    {
     "name": "stdout",
     "output_type": "stream",
     "text": [
      "tensor([0.0900, 0.2447, 0.6652])\n"
     ]
    }
   ],
   "source": [
    "import torch.nn.functional as F\n",
    "\n",
    "#create a tensor\n",
    "tensor1 = torch.tensor([1.0, 2.0, 3.0])\n",
    "\n",
    "#apply softmax using torch.nn.functional.softmax()\n",
    "softmax_output = F.softmax(tensor1, dim=0)\n",
    "\n",
    "print(softmax_output)"
   ]
  },
  {
   "cell_type": "code",
   "execution_count": 58,
   "id": "df334117-07e5-49b0-8a2f-d4f04f893f98",
   "metadata": {},
   "outputs": [
    {
     "name": "stdout",
     "output_type": "stream",
     "text": [
      "torch.Size([4, 6])\n",
      "tensor([[-1.8129e+00,  1.0794e+00, -5.6173e-01,  6.3130e-01, -5.0479e-01,\n",
      "          7.2357e-01],\n",
      "        [ 1.4875e-01, -2.1120e-04, -6.0209e-01, -1.1206e+00,  5.2090e-01,\n",
      "         -1.0031e+00],\n",
      "        [-3.0077e-01, -1.3441e+00,  2.7441e-01, -1.1563e+00, -7.2561e-01,\n",
      "         -7.8925e-01],\n",
      "        [ 1.8935e+00,  4.8543e-01,  2.8403e+00,  1.2074e+00, -3.2975e-02,\n",
      "         -6.5246e-01]], grad_fn=<EmbeddingBackward0>)\n"
     ]
    }
   ],
   "source": [
    "#Initialize an embedding layer\n",
    "vocab_size = 80\n",
    "embedding_dim = 6\n",
    "embedding = nn.Embedding(vocab_size, embedding_dim)\n",
    "\n",
    "# Create some input indices\n",
    "input_indices = torch.LongTensor([1, 5, 3, 2])\n",
    "\n",
    "#Apply the embedding Layer\n",
    "embedded_output = embedding(input_indices)\n",
    "\n",
    "#The output will be a tensor of shape (4, 100) where 4 is the number\n",
    "# and 100 is the dimensionality of the embedded vectors\n",
    "print(embedded_output.shape)\n",
    "print(embedded_output)"
   ]
  },
  {
   "cell_type": "code",
   "execution_count": 60,
   "id": "4ceb6a76-e47c-454c-bd0e-ffe20063ef22",
   "metadata": {},
   "outputs": [
    {
     "name": "stdout",
     "output_type": "stream",
     "text": [
      "tensor([[ 27,  30,  33],\n",
      "        [ 61,  68,  75],\n",
      "        [ 95, 106, 117]])\n"
     ]
    }
   ],
   "source": [
    "a = torch.tensor([[1,2],[3,4],[5,6]])\n",
    "b = torch.tensor([[7,8,9],[10,11,12]])\n",
    "print(a @ b)"
   ]
  },
  {
   "cell_type": "code",
   "execution_count": 62,
   "id": "71fd3466-5548-44a3-98bc-29daaac328f6",
   "metadata": {},
   "outputs": [
    {
     "name": "stdout",
     "output_type": "stream",
     "text": [
      "tensor([[0., 0., 0.],\n",
      "        [0., 0., 0.],\n",
      "        [0., 0., 0.]])\n"
     ]
    }
   ],
   "source": [
    "int_64 = torch.randint(1, (3,2), dtype=torch.float32)\n",
    "#type int64\n",
    "float_32 = torch.rand(2,3, dtype=torch.float32)\n",
    "#type float32\n",
    "result = torch.matmul(int_64, float_32)\n",
    "print(result)"
   ]
  },
  {
   "cell_type": "code",
   "execution_count": 67,
   "id": "c41b2c07-3d10-4ff3-9926-6b7f1d2c50eb",
   "metadata": {},
   "outputs": [
    {
     "name": "stdout",
     "output_type": "stream",
     "text": [
      "torch.Size([2, 3, 5])\n",
      "2 3 5\n",
      "torch.Size([2, 3, 5])\n"
     ]
    }
   ],
   "source": [
    "a = torch.rand(2, 3, 5)\n",
    "print(a.shape)\n",
    "x, y, z = a.shape\n",
    "a = a.view(x,y,z)\n",
    "print(x, y, z)\n",
    "print(a.shape)"
   ]
  },
  {
   "cell_type": "code",
   "execution_count": 72,
   "id": "0ecf88f8-ab16-4e80-b255-500f11cbb26f",
   "metadata": {},
   "outputs": [
    {
     "name": "stdout",
     "output_type": "stream",
     "text": [
      "tensor([[0.1030, 0.1522, 0.5921, 0.7817, 0.3155, 0.3279, 0.4950, 0.1224, 0.3586,\n",
      "         0.1466],\n",
      "        [0.6682, 0.6144, 0.0406, 0.8635, 0.4083, 0.0489, 0.4022, 0.4400, 0.2494,\n",
      "         0.0971],\n",
      "        [0.1856, 0.1086, 0.4997, 0.5723, 0.3347, 0.1241, 0.1912, 0.5130, 0.7606,\n",
      "         0.5680],\n",
      "        [0.7089, 0.1490, 0.9530, 0.3803, 0.1958, 0.6961, 0.5551, 0.1373, 0.2044,\n",
      "         0.9353],\n",
      "        [0.4740, 0.9403, 0.9242, 0.1455, 0.1414, 0.1328, 0.7652, 0.0051, 0.9633,\n",
      "         0.7914],\n",
      "        [0.6088, 0.1917, 0.2879, 0.6619, 0.3339, 0.0172, 0.8299, 0.5758, 0.7545,\n",
      "         0.6856],\n",
      "        [0.1552, 0.2469, 0.5389, 0.1168, 0.8078, 0.6597, 0.7885, 0.7094, 0.3136,\n",
      "         0.6165],\n",
      "        [0.7673, 0.1169, 0.6254, 0.6852, 0.8442, 0.2309, 0.4499, 0.9111, 0.8617,\n",
      "         0.5111],\n",
      "        [0.5276, 0.0785, 0.3995, 0.9535, 0.6486, 0.6607, 0.3877, 0.5067, 0.6563,\n",
      "         0.1624],\n",
      "        [0.1125, 0.0314, 0.8694, 0.9613, 0.2051, 0.8040, 0.2771, 0.6011, 0.6294,\n",
      "         0.8237],\n",
      "        [0.9611, 0.2838, 0.8704, 0.7191, 0.5120, 0.5002, 0.6775, 0.2992, 0.8691,\n",
      "         0.6014],\n",
      "        [0.5617, 0.9784, 0.4955, 0.6946, 0.0427, 0.1629, 0.6787, 0.3467, 0.1690,\n",
      "         0.4213],\n",
      "        [0.5574, 0.9118, 0.4550, 0.2570, 0.6044, 0.3882, 0.9256, 0.4509, 0.4021,\n",
      "         0.0528],\n",
      "        [0.2706, 0.9881, 0.9820, 0.7509, 0.7014, 0.6990, 0.2495, 0.1083, 0.6663,\n",
      "         0.3381],\n",
      "        [0.0299, 0.0644, 0.6764, 0.6468, 0.0482, 0.1415, 0.5848, 0.0872, 0.8791,\n",
      "         0.7245],\n",
      "        [0.4318, 0.0527, 0.7268, 0.6404, 0.8040, 0.3144, 0.4953, 0.6571, 0.7968,\n",
      "         0.3033],\n",
      "        [0.3347, 0.9821, 0.1291, 0.5353, 0.5512, 0.9432, 0.3531, 0.7271, 0.6092,\n",
      "         0.2472],\n",
      "        [0.4450, 0.3554, 0.9445, 0.2556, 0.1676, 0.3759, 0.6003, 0.7622, 0.1062,\n",
      "         0.7495],\n",
      "        [0.9856, 0.3735, 0.0101, 0.3490, 0.1180, 0.4827, 0.6876, 0.1427, 0.3286,\n",
      "         0.9604],\n",
      "        [0.4446, 0.7622, 0.4638, 0.8806, 0.5144, 0.6308, 0.3875, 0.9936, 0.3534,\n",
      "         0.8074],\n",
      "        [0.5302, 0.1582, 0.7078, 0.6472, 0.4532, 0.4474, 0.9497, 0.5546, 0.1235,\n",
      "         0.2820],\n",
      "        [0.8884, 0.6487, 0.4570, 0.7094, 0.4042, 0.5602, 0.2995, 0.1918, 0.6232,\n",
      "         0.1800],\n",
      "        [0.1459, 0.6042, 0.9100, 0.7504, 0.8257, 0.4948, 0.8046, 0.2701, 0.9368,\n",
      "         0.7058],\n",
      "        [0.7314, 0.8971, 0.6437, 0.4093, 0.6102, 0.5507, 0.7264, 0.9035, 0.9624,\n",
      "         0.1172],\n",
      "        [0.9635, 0.1081, 0.0073, 0.0924, 0.3924, 0.0499, 0.9494, 0.6747, 0.3568,\n",
      "         0.7985],\n",
      "        [0.8902, 0.7230, 0.7668, 0.2729, 0.6329, 0.2703, 0.4023, 0.7298, 0.9475,\n",
      "         0.1038],\n",
      "        [0.7345, 0.0363, 0.7255, 0.4920, 0.9349, 0.3673, 0.4024, 0.0964, 0.1760,\n",
      "         0.7963],\n",
      "        [0.6987, 0.6982, 0.4790, 0.8639, 0.6636, 0.1833, 0.6255, 0.0313, 0.3190,\n",
      "         0.3942],\n",
      "        [0.4723, 0.5814, 0.6599, 0.6874, 0.0205, 0.9402, 0.3648, 0.1578, 0.9896,\n",
      "         0.3655],\n",
      "        [0.3456, 0.5485, 0.0983, 0.8150, 0.9704, 0.0635, 0.5083, 0.1174, 0.6509,\n",
      "         0.2784],\n",
      "        [0.2997, 0.8006, 0.9233, 0.9118, 0.3032, 0.0097, 0.3852, 0.7168, 0.1803,\n",
      "         0.9661],\n",
      "        [0.0812, 0.3541, 0.9080, 0.8290, 0.1715, 0.1557, 0.2620, 0.7722, 0.0278,\n",
      "         0.2465]])\n",
      "tensor([0.1466, 0.0971, 0.5680, 0.9353, 0.7914, 0.6856, 0.6165, 0.5111, 0.1624,\n",
      "        0.8237, 0.6014, 0.4213, 0.0528, 0.3381, 0.7245, 0.3033, 0.2472, 0.7495,\n",
      "        0.9604, 0.8074, 0.2820, 0.1800, 0.7058, 0.1172, 0.7985, 0.1038, 0.7963,\n",
      "        0.3942, 0.3655, 0.2784, 0.9661, 0.2465])\n"
     ]
    }
   ],
   "source": [
    "input = torch.rand((4, 8, 10))\n",
    "B, T, C = input.shape\n",
    "output = input.view(B * T, C)\n",
    "print(output)\n",
    "#print(input)\n",
    "print(output[:, -1])"
   ]
  },
  {
   "cell_type": "code",
   "execution_count": 78,
   "id": "ce00994b-e31e-43d2-a48b-36a64a9d5d37",
   "metadata": {},
   "outputs": [
    {
     "name": "stdout",
     "output_type": "stream",
     "text": [
      "tensor([-0.0500])\n"
     ]
    }
   ],
   "source": [
    "x = torch.tensor([-0.05], dtype=torch.float32)\n",
    "y = torch.tanh(x)\n",
    "print(y)\n"
   ]
  },
  {
   "cell_type": "code",
   "execution_count": null,
   "id": "0784259f-eccf-4011-99c1-81e5d0101aa3",
   "metadata": {},
   "outputs": [],
   "source": []
  }
 ],
 "metadata": {
  "kernelspec": {
   "display_name": "cuda gpt",
   "language": "python",
   "name": "cuda"
  },
  "language_info": {
   "codemirror_mode": {
    "name": "ipython",
    "version": 3
   },
   "file_extension": ".py",
   "mimetype": "text/x-python",
   "name": "python",
   "nbconvert_exporter": "python",
   "pygments_lexer": "ipython3",
   "version": "3.11.4"
  }
 },
 "nbformat": 4,
 "nbformat_minor": 5
}
